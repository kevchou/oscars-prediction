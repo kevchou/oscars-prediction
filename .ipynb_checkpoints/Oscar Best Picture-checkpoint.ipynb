{
 "cells": [
  {
   "cell_type": "code",
   "execution_count": 24,
   "metadata": {
    "collapsed": false
   },
   "outputs": [],
   "source": [
    "import pandas as pd\n",
    "import numpy as np\n",
    "import statsmodels.api as sm"
   ]
  },
  {
   "cell_type": "code",
   "execution_count": 25,
   "metadata": {
    "collapsed": false
   },
   "outputs": [],
   "source": [
    "oscars = pd.read_csv('final_dataset.csv')\n",
    "oscars.index = oscars['Movie']\n",
    "del oscars['Movie']"
   ]
  },
  {
   "cell_type": "code",
   "execution_count": 49,
   "metadata": {
    "collapsed": false
   },
   "outputs": [
    {
     "data": {
      "text/html": [
       "<div>\n",
       "<table border=\"1\" class=\"dataframe\">\n",
       "  <thead>\n",
       "    <tr style=\"text-align: right;\">\n",
       "      <th></th>\n",
       "      <th>Post-Nom Gross</th>\n",
       "      <th>Post-Nom Theatres</th>\n",
       "      <th>Pre-Nom Gross</th>\n",
       "      <th>Pre-Nom Theatres</th>\n",
       "      <th>Release</th>\n",
       "      <th>Year</th>\n",
       "      <th>url</th>\n",
       "      <th>Actor</th>\n",
       "      <th>Actress</th>\n",
       "      <th>Adapted Screenplay</th>\n",
       "      <th>...</th>\n",
       "      <th>Supporting Actress</th>\n",
       "      <th>Visual Effects</th>\n",
       "      <th>Nomination count</th>\n",
       "      <th>Win</th>\n",
       "      <th>BAFTA</th>\n",
       "      <th>DGA</th>\n",
       "      <th>PGA</th>\n",
       "      <th>GGC</th>\n",
       "      <th>GGD</th>\n",
       "      <th>intercept</th>\n",
       "    </tr>\n",
       "    <tr>\n",
       "      <th>Movie</th>\n",
       "      <th></th>\n",
       "      <th></th>\n",
       "      <th></th>\n",
       "      <th></th>\n",
       "      <th></th>\n",
       "      <th></th>\n",
       "      <th></th>\n",
       "      <th></th>\n",
       "      <th></th>\n",
       "      <th></th>\n",
       "      <th></th>\n",
       "      <th></th>\n",
       "      <th></th>\n",
       "      <th></th>\n",
       "      <th></th>\n",
       "      <th></th>\n",
       "      <th></th>\n",
       "      <th></th>\n",
       "      <th></th>\n",
       "      <th></th>\n",
       "      <th></th>\n",
       "    </tr>\n",
       "  </thead>\n",
       "  <tbody>\n",
       "    <tr>\n",
       "      <th>E.T.: The Extra-Terrestrial</th>\n",
       "      <td>0.613607</td>\n",
       "      <td>1.144272</td>\n",
       "      <td>3.322427</td>\n",
       "      <td>1.780136</td>\n",
       "      <td>1982-06-11</td>\n",
       "      <td>1982</td>\n",
       "      <td>/movies/?id=et.htm</td>\n",
       "      <td>0.0</td>\n",
       "      <td>0.0</td>\n",
       "      <td>0.0</td>\n",
       "      <td>...</td>\n",
       "      <td>0.0</td>\n",
       "      <td>1.0</td>\n",
       "      <td>9</td>\n",
       "      <td>0</td>\n",
       "      <td>0</td>\n",
       "      <td>0</td>\n",
       "      <td>0</td>\n",
       "      <td>0</td>\n",
       "      <td>0</td>\n",
       "      <td>1</td>\n",
       "    </tr>\n",
       "    <tr>\n",
       "      <th>Tootsie</th>\n",
       "      <td>2.485495</td>\n",
       "      <td>1.635439</td>\n",
       "      <td>1.016385</td>\n",
       "      <td>1.223468</td>\n",
       "      <td>1982-12-17</td>\n",
       "      <td>1982</td>\n",
       "      <td>/movies/?id=tootsie.htm</td>\n",
       "      <td>1.0</td>\n",
       "      <td>0.0</td>\n",
       "      <td>0.0</td>\n",
       "      <td>...</td>\n",
       "      <td>1.0</td>\n",
       "      <td>0.0</td>\n",
       "      <td>9</td>\n",
       "      <td>0</td>\n",
       "      <td>0</td>\n",
       "      <td>0</td>\n",
       "      <td>0</td>\n",
       "      <td>1</td>\n",
       "      <td>0</td>\n",
       "      <td>1</td>\n",
       "    </tr>\n",
       "    <tr>\n",
       "      <th>The Verdict</th>\n",
       "      <td>0.589478</td>\n",
       "      <td>1.142934</td>\n",
       "      <td>0.400339</td>\n",
       "      <td>0.905086</td>\n",
       "      <td>1982-12-10</td>\n",
       "      <td>1982</td>\n",
       "      <td>/movies/?id=verdict.htm</td>\n",
       "      <td>1.0</td>\n",
       "      <td>0.0</td>\n",
       "      <td>1.0</td>\n",
       "      <td>...</td>\n",
       "      <td>0.0</td>\n",
       "      <td>0.0</td>\n",
       "      <td>5</td>\n",
       "      <td>0</td>\n",
       "      <td>0</td>\n",
       "      <td>0</td>\n",
       "      <td>0</td>\n",
       "      <td>0</td>\n",
       "      <td>0</td>\n",
       "      <td>1</td>\n",
       "    </tr>\n",
       "    <tr>\n",
       "      <th>Gandhi</th>\n",
       "      <td>1.311419</td>\n",
       "      <td>1.077355</td>\n",
       "      <td>0.119639</td>\n",
       "      <td>0.357429</td>\n",
       "      <td>1982-12-10</td>\n",
       "      <td>1982</td>\n",
       "      <td>/movies/?id=gandhi.htm</td>\n",
       "      <td>1.0</td>\n",
       "      <td>0.0</td>\n",
       "      <td>0.0</td>\n",
       "      <td>...</td>\n",
       "      <td>0.0</td>\n",
       "      <td>0.0</td>\n",
       "      <td>11</td>\n",
       "      <td>1</td>\n",
       "      <td>1</td>\n",
       "      <td>1</td>\n",
       "      <td>0</td>\n",
       "      <td>0</td>\n",
       "      <td>0</td>\n",
       "      <td>1</td>\n",
       "    </tr>\n",
       "    <tr>\n",
       "      <th>Missing</th>\n",
       "      <td>0.000000</td>\n",
       "      <td>0.000000</td>\n",
       "      <td>0.141209</td>\n",
       "      <td>0.733881</td>\n",
       "      <td>1982-02-12</td>\n",
       "      <td>1982</td>\n",
       "      <td>/movies/?id=missing.htm</td>\n",
       "      <td>1.0</td>\n",
       "      <td>1.0</td>\n",
       "      <td>1.0</td>\n",
       "      <td>...</td>\n",
       "      <td>0.0</td>\n",
       "      <td>0.0</td>\n",
       "      <td>4</td>\n",
       "      <td>0</td>\n",
       "      <td>0</td>\n",
       "      <td>0</td>\n",
       "      <td>0</td>\n",
       "      <td>0</td>\n",
       "      <td>0</td>\n",
       "      <td>1</td>\n",
       "    </tr>\n",
       "  </tbody>\n",
       "</table>\n",
       "<p>5 rows × 37 columns</p>\n",
       "</div>"
      ],
      "text/plain": [
       "                             Post-Nom Gross  Post-Nom Theatres  Pre-Nom Gross  \\\n",
       "Movie                                                                           \n",
       "E.T.: The Extra-Terrestrial        0.613607           1.144272       3.322427   \n",
       "Tootsie                            2.485495           1.635439       1.016385   \n",
       "The Verdict                        0.589478           1.142934       0.400339   \n",
       "Gandhi                             1.311419           1.077355       0.119639   \n",
       "Missing                            0.000000           0.000000       0.141209   \n",
       "\n",
       "                             Pre-Nom Theatres     Release  Year  \\\n",
       "Movie                                                             \n",
       "E.T.: The Extra-Terrestrial          1.780136  1982-06-11  1982   \n",
       "Tootsie                              1.223468  1982-12-17  1982   \n",
       "The Verdict                          0.905086  1982-12-10  1982   \n",
       "Gandhi                               0.357429  1982-12-10  1982   \n",
       "Missing                              0.733881  1982-02-12  1982   \n",
       "\n",
       "                                                 url  Actor  Actress  \\\n",
       "Movie                                                                  \n",
       "E.T.: The Extra-Terrestrial       /movies/?id=et.htm    0.0      0.0   \n",
       "Tootsie                      /movies/?id=tootsie.htm    1.0      0.0   \n",
       "The Verdict                  /movies/?id=verdict.htm    1.0      0.0   \n",
       "Gandhi                        /movies/?id=gandhi.htm    1.0      0.0   \n",
       "Missing                      /movies/?id=missing.htm    1.0      1.0   \n",
       "\n",
       "                             Adapted Screenplay    ...      \\\n",
       "Movie                                              ...       \n",
       "E.T.: The Extra-Terrestrial                 0.0    ...       \n",
       "Tootsie                                     0.0    ...       \n",
       "The Verdict                                 1.0    ...       \n",
       "Gandhi                                      0.0    ...       \n",
       "Missing                                     1.0    ...       \n",
       "\n",
       "                             Supporting Actress  Visual Effects  \\\n",
       "Movie                                                             \n",
       "E.T.: The Extra-Terrestrial                 0.0             1.0   \n",
       "Tootsie                                     1.0             0.0   \n",
       "The Verdict                                 0.0             0.0   \n",
       "Gandhi                                      0.0             0.0   \n",
       "Missing                                     0.0             0.0   \n",
       "\n",
       "                             Nomination count  Win  BAFTA  DGA  PGA  GGC  GGD  \\\n",
       "Movie                                                                           \n",
       "E.T.: The Extra-Terrestrial                 9    0      0    0    0    0    0   \n",
       "Tootsie                                     9    0      0    0    0    1    0   \n",
       "The Verdict                                 5    0      0    0    0    0    0   \n",
       "Gandhi                                     11    1      1    1    0    0    0   \n",
       "Missing                                     4    0      0    0    0    0    0   \n",
       "\n",
       "                             intercept  \n",
       "Movie                                   \n",
       "E.T.: The Extra-Terrestrial          1  \n",
       "Tootsie                              1  \n",
       "The Verdict                          1  \n",
       "Gandhi                               1  \n",
       "Missing                              1  \n",
       "\n",
       "[5 rows x 37 columns]"
      ]
     },
     "execution_count": 49,
     "metadata": {},
     "output_type": "execute_result"
    }
   ],
   "source": [
    "oscars['intercept'] = 1\n",
    "oscars.head()"
   ]
  },
  {
   "cell_type": "code",
   "execution_count": 50,
   "metadata": {
    "collapsed": false
   },
   "outputs": [],
   "source": [
    "response = 'Win'\n",
    "predictors = [\n",
    "        'intercept',\n",
    "        'Pre-Nom Theatres', \n",
    "        'Post-Nom Theatres',\n",
    "        'Pre-Nom Gross', \n",
    "        'Post-Nom Gross',\n",
    "        'Director', \n",
    "        'Actor', \n",
    "        'Actress',\n",
    "        'Supporting Actor',\n",
    "        'Supporting Actress', \n",
    "        'Nomination count',\n",
    "        'BAFTA',\n",
    "        'DGA',\n",
    "        'PGA',\n",
    "        'GGC',\n",
    "        'GGD'\n",
    "       ]"
   ]
  },
  {
   "cell_type": "code",
   "execution_count": 120,
   "metadata": {
    "collapsed": true
   },
   "outputs": [],
   "source": [
    "# Set 2016 as test_set\n",
    "test_year = 2014\n",
    "\n",
    "# Set 2016 nominees as test_set\n",
    "train_ix = oscars['Year'] != test_year\n",
    "test_ix = oscars['Year'] == test_year\n",
    "\n",
    "y_train = oscars[train_ix][response]\n",
    "X_train = oscars[train_ix][predictors]\n",
    "\n",
    "y_test = oscars[test_ix][response]\n",
    "X_test = oscars[test_ix][predictors]\n"
   ]
  },
  {
   "cell_type": "code",
   "execution_count": 121,
   "metadata": {
    "collapsed": false
   },
   "outputs": [
    {
     "name": "stdout",
     "output_type": "stream",
     "text": [
      "Optimization terminated successfully.\n",
      "         Current function value: 0.201382\n",
      "         Iterations 8\n"
     ]
    },
    {
     "data": {
      "text/html": [
       "<table class=\"simpletable\">\n",
       "<caption>Logit Regression Results</caption>\n",
       "<tr>\n",
       "  <th>Dep. Variable:</th>        <td>Win</td>       <th>  No. Observations:  </th>  <td>   199</td>  \n",
       "</tr>\n",
       "<tr>\n",
       "  <th>Model:</th>               <td>Logit</td>      <th>  Df Residuals:      </th>  <td>   183</td>  \n",
       "</tr>\n",
       "<tr>\n",
       "  <th>Method:</th>               <td>MLE</td>       <th>  Df Model:          </th>  <td>    15</td>  \n",
       "</tr>\n",
       "<tr>\n",
       "  <th>Date:</th>          <td>Sun, 05 Mar 2017</td> <th>  Pseudo R-squ.:     </th>  <td>0.5517</td>  \n",
       "</tr>\n",
       "<tr>\n",
       "  <th>Time:</th>              <td>21:48:46</td>     <th>  Log-Likelihood:    </th> <td> -40.075</td> \n",
       "</tr>\n",
       "<tr>\n",
       "  <th>converged:</th>           <td>True</td>       <th>  LL-Null:           </th> <td> -89.393</td> \n",
       "</tr>\n",
       "<tr>\n",
       "  <th> </th>                      <td> </td>        <th>  LLR p-value:       </th> <td>2.365e-14</td>\n",
       "</tr>\n",
       "</table>\n",
       "<table class=\"simpletable\">\n",
       "<tr>\n",
       "           <td></td>             <th>coef</th>     <th>std err</th>      <th>z</th>      <th>P>|z|</th> <th>[95.0% Conf. Int.]</th> \n",
       "</tr>\n",
       "<tr>\n",
       "  <th>intercept</th>          <td>   -6.4771</td> <td>    1.673</td> <td>   -3.872</td> <td> 0.000</td> <td>   -9.755    -3.199</td>\n",
       "</tr>\n",
       "<tr>\n",
       "  <th>Pre-Nom Theatres</th>   <td>    0.2802</td> <td>    1.056</td> <td>    0.265</td> <td> 0.791</td> <td>   -1.789     2.349</td>\n",
       "</tr>\n",
       "<tr>\n",
       "  <th>Post-Nom Theatres</th>  <td>    0.0597</td> <td>    0.901</td> <td>    0.066</td> <td> 0.947</td> <td>   -1.706     1.825</td>\n",
       "</tr>\n",
       "<tr>\n",
       "  <th>Pre-Nom Gross</th>      <td>   -0.7710</td> <td>    0.732</td> <td>   -1.053</td> <td> 0.292</td> <td>   -2.206     0.664</td>\n",
       "</tr>\n",
       "<tr>\n",
       "  <th>Post-Nom Gross</th>     <td>   -0.3965</td> <td>    0.652</td> <td>   -0.608</td> <td> 0.543</td> <td>   -1.675     0.882</td>\n",
       "</tr>\n",
       "<tr>\n",
       "  <th>Director</th>           <td>    1.6071</td> <td>    1.116</td> <td>    1.440</td> <td> 0.150</td> <td>   -0.580     3.794</td>\n",
       "</tr>\n",
       "<tr>\n",
       "  <th>Actor</th>              <td>   -0.4435</td> <td>    0.633</td> <td>   -0.700</td> <td> 0.484</td> <td>   -1.685     0.798</td>\n",
       "</tr>\n",
       "<tr>\n",
       "  <th>Actress</th>            <td>    0.5288</td> <td>    0.736</td> <td>    0.719</td> <td> 0.472</td> <td>   -0.913     1.970</td>\n",
       "</tr>\n",
       "<tr>\n",
       "  <th>Supporting Actor</th>   <td>    1.3932</td> <td>    0.609</td> <td>    2.288</td> <td> 0.022</td> <td>    0.200     2.587</td>\n",
       "</tr>\n",
       "<tr>\n",
       "  <th>Supporting Actress</th> <td>   -0.6166</td> <td>    0.625</td> <td>   -0.987</td> <td> 0.324</td> <td>   -1.841     0.608</td>\n",
       "</tr>\n",
       "<tr>\n",
       "  <th>Nomination count</th>   <td>    0.2615</td> <td>    0.163</td> <td>    1.608</td> <td> 0.108</td> <td>   -0.057     0.580</td>\n",
       "</tr>\n",
       "<tr>\n",
       "  <th>BAFTA</th>              <td>    0.1909</td> <td>    0.847</td> <td>    0.225</td> <td> 0.822</td> <td>   -1.470     1.852</td>\n",
       "</tr>\n",
       "<tr>\n",
       "  <th>DGA</th>                <td>    3.6681</td> <td>    0.883</td> <td>    4.156</td> <td> 0.000</td> <td>    1.938     5.398</td>\n",
       "</tr>\n",
       "<tr>\n",
       "  <th>PGA</th>                <td>    1.0449</td> <td>    0.830</td> <td>    1.259</td> <td> 0.208</td> <td>   -0.582     2.672</td>\n",
       "</tr>\n",
       "<tr>\n",
       "  <th>GGC</th>                <td>    0.6582</td> <td>    1.037</td> <td>    0.635</td> <td> 0.526</td> <td>   -1.374     2.690</td>\n",
       "</tr>\n",
       "<tr>\n",
       "  <th>GGD</th>                <td>    0.7123</td> <td>    0.755</td> <td>    0.943</td> <td> 0.346</td> <td>   -0.768     2.193</td>\n",
       "</tr>\n",
       "</table>"
      ],
      "text/plain": [
       "<class 'statsmodels.iolib.summary.Summary'>\n",
       "\"\"\"\n",
       "                           Logit Regression Results                           \n",
       "==============================================================================\n",
       "Dep. Variable:                    Win   No. Observations:                  199\n",
       "Model:                          Logit   Df Residuals:                      183\n",
       "Method:                           MLE   Df Model:                           15\n",
       "Date:                Sun, 05 Mar 2017   Pseudo R-squ.:                  0.5517\n",
       "Time:                        21:48:46   Log-Likelihood:                -40.075\n",
       "converged:                       True   LL-Null:                       -89.393\n",
       "                                        LLR p-value:                 2.365e-14\n",
       "======================================================================================\n",
       "                         coef    std err          z      P>|z|      [95.0% Conf. Int.]\n",
       "--------------------------------------------------------------------------------------\n",
       "intercept             -6.4771      1.673     -3.872      0.000        -9.755    -3.199\n",
       "Pre-Nom Theatres       0.2802      1.056      0.265      0.791        -1.789     2.349\n",
       "Post-Nom Theatres      0.0597      0.901      0.066      0.947        -1.706     1.825\n",
       "Pre-Nom Gross         -0.7710      0.732     -1.053      0.292        -2.206     0.664\n",
       "Post-Nom Gross        -0.3965      0.652     -0.608      0.543        -1.675     0.882\n",
       "Director               1.6071      1.116      1.440      0.150        -0.580     3.794\n",
       "Actor                 -0.4435      0.633     -0.700      0.484        -1.685     0.798\n",
       "Actress                0.5288      0.736      0.719      0.472        -0.913     1.970\n",
       "Supporting Actor       1.3932      0.609      2.288      0.022         0.200     2.587\n",
       "Supporting Actress    -0.6166      0.625     -0.987      0.324        -1.841     0.608\n",
       "Nomination count       0.2615      0.163      1.608      0.108        -0.057     0.580\n",
       "BAFTA                  0.1909      0.847      0.225      0.822        -1.470     1.852\n",
       "DGA                    3.6681      0.883      4.156      0.000         1.938     5.398\n",
       "PGA                    1.0449      0.830      1.259      0.208        -0.582     2.672\n",
       "GGC                    0.6582      1.037      0.635      0.526        -1.374     2.690\n",
       "GGD                    0.7123      0.755      0.943      0.346        -0.768     2.193\n",
       "======================================================================================\n",
       "\"\"\""
      ]
     },
     "execution_count": 121,
     "metadata": {},
     "output_type": "execute_result"
    }
   ],
   "source": [
    "results = sm.Logit(y_train, X_train).fit()\n",
    "results.summary()"
   ]
  },
  {
   "cell_type": "code",
   "execution_count": 122,
   "metadata": {
    "collapsed": false
   },
   "outputs": [
    {
     "data": {
      "text/plain": [
       "array([0, 0, 0, 0, 1, 0, 0, 0])"
      ]
     },
     "execution_count": 122,
     "metadata": {},
     "output_type": "execute_result"
    }
   ],
   "source": [
    "predicted_probs = results.predict(X_test)\n",
    "predicted_winner = (predicted_probs == predicted_probs.max()).astype(int)\n",
    "\n",
    "predicted_winner"
   ]
  },
  {
   "cell_type": "code",
   "execution_count": 123,
   "metadata": {
    "collapsed": false
   },
   "outputs": [
    {
     "data": {
      "text/plain": [
       "True"
      ]
     },
     "execution_count": 123,
     "metadata": {},
     "output_type": "execute_result"
    }
   ],
   "source": [
    "def predicted_correctly(real, predicted):\n",
    "    return min(real == predicted)\n",
    "\n",
    "predicted_correctly(y_test, predicted_winner)"
   ]
  },
  {
   "cell_type": "code",
   "execution_count": 124,
   "metadata": {
    "collapsed": false
   },
   "outputs": [
    {
     "data": {
      "text/html": [
       "<div>\n",
       "<table border=\"1\" class=\"dataframe\">\n",
       "  <thead>\n",
       "    <tr style=\"text-align: right;\">\n",
       "      <th></th>\n",
       "      <th>Oscar Winner</th>\n",
       "      <th>Predicted Winner</th>\n",
       "    </tr>\n",
       "    <tr>\n",
       "      <th>Movie</th>\n",
       "      <th></th>\n",
       "      <th></th>\n",
       "    </tr>\n",
       "  </thead>\n",
       "  <tbody>\n",
       "    <tr>\n",
       "      <th>American Sniper</th>\n",
       "      <td>0</td>\n",
       "      <td>0</td>\n",
       "    </tr>\n",
       "    <tr>\n",
       "      <th>The Imitation Game</th>\n",
       "      <td>0</td>\n",
       "      <td>0</td>\n",
       "    </tr>\n",
       "    <tr>\n",
       "      <th>The Grand Budapest Hotel</th>\n",
       "      <td>0</td>\n",
       "      <td>0</td>\n",
       "    </tr>\n",
       "    <tr>\n",
       "      <th>Selma</th>\n",
       "      <td>0</td>\n",
       "      <td>0</td>\n",
       "    </tr>\n",
       "    <tr>\n",
       "      <th>Birdman</th>\n",
       "      <td>1</td>\n",
       "      <td>1</td>\n",
       "    </tr>\n",
       "    <tr>\n",
       "      <th>The Theory of Everything</th>\n",
       "      <td>0</td>\n",
       "      <td>0</td>\n",
       "    </tr>\n",
       "    <tr>\n",
       "      <th>Boyhood</th>\n",
       "      <td>0</td>\n",
       "      <td>0</td>\n",
       "    </tr>\n",
       "    <tr>\n",
       "      <th>Whiplash</th>\n",
       "      <td>0</td>\n",
       "      <td>0</td>\n",
       "    </tr>\n",
       "  </tbody>\n",
       "</table>\n",
       "</div>"
      ],
      "text/plain": [
       "                          Oscar Winner  Predicted Winner\n",
       "Movie                                                   \n",
       "American Sniper                      0                 0\n",
       "The Imitation Game                   0                 0\n",
       "The Grand Budapest Hotel             0                 0\n",
       "Selma                                0                 0\n",
       "Birdman                              1                 1\n",
       "The Theory of Everything             0                 0\n",
       "Boyhood                              0                 0\n",
       "Whiplash                             0                 0"
      ]
     },
     "execution_count": 124,
     "metadata": {},
     "output_type": "execute_result"
    }
   ],
   "source": [
    "pd.DataFrame({\"Oscar Winner\": y_test, \"Predicted Winner\": predicted_winner})"
   ]
  },
  {
   "cell_type": "code",
   "execution_count": 48,
   "metadata": {
    "collapsed": false
   },
   "outputs": [
    {
     "data": {
      "text/plain": [
       "0.73529411764705888"
      ]
     },
     "execution_count": 48,
     "metadata": {},
     "output_type": "execute_result"
    }
   ],
   "source": [
    "# Predictions on Test Set\n",
    "x1 = results.predict(oscars[oscars['Win'] == 1][predictors])\n",
    "x2 = np.round(x1) == oscars['Win'][oscars['Win'] == 1]\n",
    "sum(x2)/len(x2)"
   ]
  },
  {
   "cell_type": "code",
   "execution_count": 44,
   "metadata": {
    "collapsed": false
   },
   "outputs": [
    {
     "data": {
      "text/plain": [
       "Movie\n",
       "Gandhi                                           1\n",
       "Terms of Endearment                              1\n",
       "Amadeus                                          1\n",
       "Out of Africa                                    1\n",
       "Platoon                                          1\n",
       "The Last Emperor                                 1\n",
       "Rain Man                                         1\n",
       "Driving Miss Daisy                               1\n",
       "Dances with Wolves                               1\n",
       "The Silence of the Lambs                         1\n",
       "Unforgiven                                       1\n",
       "Schindler's List                                 1\n",
       "Forrest Gump                                     1\n",
       "Braveheart                                       1\n",
       "The English Patient                              1\n",
       "Titanic                                          1\n",
       "Shakespeare in Love                              1\n",
       "American Beauty                                  1\n",
       "Gladiator                                        1\n",
       "A Beautiful Mind                                 1\n",
       "Chicago                                          1\n",
       "The Lord of the Rings: The Return of the King    1\n",
       "Million Dollar Baby                              1\n",
       "Crash                                            1\n",
       "The Departed                                     1\n",
       "No Country for Old Men                           1\n",
       "Slumdog Millionaire                              1\n",
       "The Hurt Locker                                  1\n",
       "The King's Speech                                1\n",
       "The Artist                                       1\n",
       "Argo                                             1\n",
       "12 Years a Slave                                 1\n",
       "Birdman                                          1\n",
       "Spotlight                                        1\n",
       "Name: Win, dtype: int64"
      ]
     },
     "execution_count": 44,
     "metadata": {},
     "output_type": "execute_result"
    }
   ],
   "source": [
    "oscars_train['Win'][oscars_train['Win'] == 1]"
   ]
  },
  {
   "cell_type": "code",
   "execution_count": 33,
   "metadata": {
    "collapsed": false
   },
   "outputs": [
    {
     "data": {
      "text/plain": [
       "array([ 0.01023663,  0.88558165,  0.04569751,  0.03391558,  0.01461524,\n",
       "        0.05827125,  0.0742878 ,  0.08899886,  0.1825111 ])"
      ]
     },
     "execution_count": 33,
     "metadata": {},
     "output_type": "execute_result"
    }
   ],
   "source": [
    "from sklearn import linear_model\n",
    "reg = linear_model.LogisticRegression()\n",
    "reg.fit(X_train, y_train)\n",
    "\n",
    "# Get predicted probs for test set\n",
    "probs = reg.predict_proba(X_test)[:,1]\n",
    "probs"
   ]
  },
  {
   "cell_type": "code",
   "execution_count": 15,
   "metadata": {
    "collapsed": false
   },
   "outputs": [
    {
     "data": {
      "text/html": [
       "<div>\n",
       "<table border=\"1\" class=\"dataframe\">\n",
       "  <thead>\n",
       "    <tr style=\"text-align: right;\">\n",
       "      <th></th>\n",
       "      <th>Movie</th>\n",
       "      <th>Probability of Winning</th>\n",
       "    </tr>\n",
       "  </thead>\n",
       "  <tbody>\n",
       "    <tr>\n",
       "      <th>0</th>\n",
       "      <td>Hidden Figures</td>\n",
       "      <td>0.04</td>\n",
       "    </tr>\n",
       "    <tr>\n",
       "      <th>1</th>\n",
       "      <td>La La Land</td>\n",
       "      <td>0.62</td>\n",
       "    </tr>\n",
       "    <tr>\n",
       "      <th>2</th>\n",
       "      <td>Arrival</td>\n",
       "      <td>0.04</td>\n",
       "    </tr>\n",
       "    <tr>\n",
       "      <th>3</th>\n",
       "      <td>Hacksaw Ridge</td>\n",
       "      <td>0.04</td>\n",
       "    </tr>\n",
       "    <tr>\n",
       "      <th>4</th>\n",
       "      <td>Fences</td>\n",
       "      <td>0.04</td>\n",
       "    </tr>\n",
       "    <tr>\n",
       "      <th>5</th>\n",
       "      <td>Manchester by the Sea</td>\n",
       "      <td>0.04</td>\n",
       "    </tr>\n",
       "    <tr>\n",
       "      <th>6</th>\n",
       "      <td>Lion</td>\n",
       "      <td>0.04</td>\n",
       "    </tr>\n",
       "    <tr>\n",
       "      <th>7</th>\n",
       "      <td>Hell or High Water</td>\n",
       "      <td>0.04</td>\n",
       "    </tr>\n",
       "    <tr>\n",
       "      <th>8</th>\n",
       "      <td>Moonlight (2016)</td>\n",
       "      <td>0.07</td>\n",
       "    </tr>\n",
       "  </tbody>\n",
       "</table>\n",
       "</div>"
      ],
      "text/plain": [
       "                   Movie Probability of Winning\n",
       "0         Hidden Figures                   0.04\n",
       "1             La La Land                   0.62\n",
       "2                Arrival                   0.04\n",
       "3          Hacksaw Ridge                   0.04\n",
       "4                 Fences                   0.04\n",
       "5  Manchester by the Sea                   0.04\n",
       "6                   Lion                   0.04\n",
       "7     Hell or High Water                   0.04\n",
       "8       Moonlight (2016)                   0.07"
      ]
     },
     "execution_count": 15,
     "metadata": {},
     "output_type": "execute_result"
    }
   ],
   "source": [
    "# Normalize probs\n",
    "probs_normalized = probs / probs.sum()\n",
    "x = pd.DataFrame([X_test.index, probs_normalized.round(2)]).transpose()\n",
    "x.columns = ['Movie', 'Probability of Winning']\n",
    "x"
   ]
  },
  {
   "cell_type": "code",
   "execution_count": 16,
   "metadata": {
    "collapsed": false,
    "scrolled": true
   },
   "outputs": [
    {
     "data": {
      "text/plain": [
       "array([0, 1, 0, 0, 0, 0, 0, 0, 0])"
      ]
     },
     "execution_count": 16,
     "metadata": {},
     "output_type": "execute_result"
    }
   ],
   "source": [
    "reg.predict(X_test)"
   ]
  },
  {
   "cell_type": "code",
   "execution_count": 21,
   "metadata": {
    "collapsed": false
   },
   "outputs": [
    {
     "data": {
      "text/plain": [
       "0.77294685990338163"
      ]
     },
     "execution_count": 21,
     "metadata": {},
     "output_type": "execute_result"
    }
   ],
   "source": [
    "sum(oscars['Win'] == oscars['GGC']) / len(oscars)"
   ]
  },
  {
   "cell_type": "code",
   "execution_count": null,
   "metadata": {
    "collapsed": true
   },
   "outputs": [],
   "source": []
  }
 ],
 "metadata": {
  "anaconda-cloud": {},
  "kernelspec": {
   "display_name": "Python [default]",
   "language": "python",
   "name": "python3"
  },
  "language_info": {
   "codemirror_mode": {
    "name": "ipython",
    "version": 3
   },
   "file_extension": ".py",
   "mimetype": "text/x-python",
   "name": "python",
   "nbconvert_exporter": "python",
   "pygments_lexer": "ipython3",
   "version": "3.5.2"
  }
 },
 "nbformat": 4,
 "nbformat_minor": 1
}
